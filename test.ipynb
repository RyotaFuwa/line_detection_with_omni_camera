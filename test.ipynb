{
 "cells": [
  {
   "cell_type": "code",
   "execution_count": 11,
   "metadata": {
    "collapsed": true
   },
   "outputs": [],
   "source": [
    "import tensorflow as tf\n",
    "import numpy as np\n",
    "import matplotlib.pyplot as plt"
   ]
  },
  {
   "cell_type": "code",
   "execution_count": 18,
   "outputs": [
    {
     "name": "stdout",
     "output_type": "stream",
     "text": [
      "IoU expected: 0.3574660633484163, calculated: 0.3575238585472107\n"
     ]
    }
   ],
   "source": [
    "# Evaluation\n",
    "threshold = 0.7\n",
    "\n",
    "y_true = np.random.rand(32, 256, 128, 1) > threshold\n",
    "y_pred = np.random.rand(32, 256, 128, 1) > threshold\n",
    "\n",
    "expected = (np.square(1 - threshold) / (2 * (1 - threshold) - np.square(1 - threshold)) +\n",
    "            np.square(threshold) / (2 * threshold - np.square(threshold))) / 2\n",
    "\n",
    "m = tf.keras.metrics.MeanIoU(num_classes=2)\n",
    "\n",
    "def get_metrics(y_true, y_pred, num_classes=2, metrics='IoU', graph_for=-1):\n",
    "    \"\"\"calculate IOU for confidence map of an object\"\"\"\n",
    "    iou = 0\n",
    "    for k in range(num_classes):\n",
    "      t = y_true == k\n",
    "      p = y_pred == k\n",
    "      i = np.logical_and(t, p)\n",
    "\n",
    "      if graph_for == k:\n",
    "        _, ax = plt.subplots(1, 3, figsize=(12, 4))\n",
    "        ax[0].imshow(t[0, :, :, 0], cmap='gray')\n",
    "        ax[0].set_title('label')\n",
    "        ax[1].imshow(p[0, :, :, 0], cmap='gray')\n",
    "        ax[1].set_title('predict')\n",
    "        ax[2].imshow(i[0, :, :, 0], cmap='hot')\n",
    "        ax[2].set_title('intersection')\n",
    "\n",
    "      i_sum = np.sum(i)\n",
    "      t_sum = np.sum(t)\n",
    "      p_sum = np.sum(p)\n",
    "\n",
    "      if metrics == 'f1':\n",
    "        iou += 2 * i_sum / (t_sum + p_sum + 1e-7)\n",
    "      elif metrics == 'IoU':\n",
    "        u_sum = t_sum + p_sum - i_sum\n",
    "        iou += i_sum / (u_sum + 1e-7)\n",
    "      else:\n",
    "        raise Exception(\"Invalid metric\")\n",
    "\n",
    "    return iou / num_classes\n",
    "\n",
    "\n",
    "m.update_state(y_true, y_pred)\n",
    "iou =  m.result().numpy()\n",
    "print(f\"IoU expected: {expected}, calculated: {iou}\")"
   ],
   "metadata": {
    "collapsed": false,
    "pycharm": {
     "name": "#%%\n"
    }
   }
  },
  {
   "cell_type": "code",
   "execution_count": null,
   "outputs": [],
   "source": [],
   "metadata": {
    "collapsed": false,
    "pycharm": {
     "name": "#%%\n"
    }
   }
  }
 ],
 "metadata": {
  "kernelspec": {
   "display_name": "Python 3",
   "language": "python",
   "name": "python3"
  },
  "language_info": {
   "codemirror_mode": {
    "name": "ipython",
    "version": 2
   },
   "file_extension": ".py",
   "mimetype": "text/x-python",
   "name": "python",
   "nbconvert_exporter": "python",
   "pygments_lexer": "ipython2",
   "version": "2.7.6"
  }
 },
 "nbformat": 4,
 "nbformat_minor": 0
}